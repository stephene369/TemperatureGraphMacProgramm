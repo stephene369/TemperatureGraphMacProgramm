{
 "cells": [
  {
   "cell_type": "code",
   "execution_count": 1,
   "id": "68676014",
   "metadata": {},
   "outputs": [],
   "source": [
    "import pandas as pd\n",
    "import numpy as np\n",
    "import matplotlib.pyplot as plt\n",
    "from matplotlib.colors import LinearSegmentedColormap"
   ]
  },
  {
   "cell_type": "code",
   "execution_count": 2,
   "id": "595282f6",
   "metadata": {},
   "outputs": [],
   "source": [
    "df = pd.read_csv(\"documentation\\C6_SCJ_Mur_Sud_1.csv\",header=1)"
   ]
  },
  {
   "cell_type": "code",
   "execution_count": 3,
   "id": "ff43dd45",
   "metadata": {},
   "outputs": [],
   "source": [
    "df = pd.read_excel(\"documentation/21027238 Nord 2023-09-27 10_57_14 CET (Data CET)(1).xlsx\")\n",
    "# df = pd.read_excel(\"documentation/21027241 Est 2023-09-27 10_58_05 CET (Data CET).xlsx\")\n",
    "# df = pd.read_excel(\"documentation/21027239 Sud Est 2023-09-27 10_57_37 CET (Data CET).xlsx\")\n"
   ]
  },
  {
   "cell_type": "code",
   "execution_count": null,
   "id": "264ad3e0",
   "metadata": {},
   "outputs": [],
   "source": [
    "df[\"Date-Time (CET)\"] = pd.to_datetime(df[\"Date-Time (CET)\"])\n",
    "\n",
    "mask = (df[\"Date-Time (CET)\"] >= \"2022-09-25\") & (df[\"Date-Time (CET)\"] <= \"2023-09-25\")\n",
    "df = df[mask]\n",
    "\n",
    "df[\"date_only\"] = df[\"Date-Time (CET)\"].dt.floor(\"D\")\n",
    "grouped = df.groupby(\"date_only\")[\"Ch: 3 - RH   (%)\"]\n",
    "amplitude = grouped.max() - grouped.min()\n",
    "# amplitude = (grouped.max() - grouped.min()).dropna()"
   ]
  },
  {
   "cell_type": "code",
   "execution_count": null,
   "id": "55e81144",
   "metadata": {},
   "outputs": [
    {
     "name": "stdout",
     "output_type": "stream",
     "text": [
      "Distribution des amplitudes hydriques quotidiennes:\n",
      "0-1 % : 1 mesure\n",
      "1-2 % : 8 mesures\n",
      "2-3 % : 17 mesures\n",
      "3-4 % : 28 mesures\n",
      "4-5 % : 24 mesures\n",
      "5-6 % : 38 mesures\n",
      "6-7 % : 40 mesures\n",
      "7-8 % : 28 mesures\n",
      "8-9 % : 44 mesures\n",
      "9-10 % : 32 mesures\n",
      "10-11 % : 22 mesures\n",
      "11-12 % : 17 mesures\n",
      "12-13 % : 20 mesures\n",
      "13-14 % : 11 mesures\n",
      "14-15 % : 13 mesures\n",
      "15-16 % : 7 mesures\n",
      "16-17 % : 7 mesures\n",
      "17-18 % : 2 mesures\n",
      "18-19 % : 2 mesures\n",
      "19-20 % : 1 mesure\n",
      "20-21 % : 1 mesure\n",
      "21-22 % : 1 mesure\n",
      "22-23 % : 1 mesure\n",
      "23-24 % : 1 mesure\n",
      "24-25 % : 0 mesures\n"
     ]
    },
    {
     "data": {
      "image/png": "[encoded data removed]",
      "text/plain": [
       "<Figure size 1000x800 with 1 Axes>"
      ]
     },
     "metadata": {},
     "output_type": "display_data"
    }
   ],
   "source": [
    "# Créer l'histogramme pour obtenir les comptages\n",
    "fig, ax2 = plt.subplots(figsize=(10, 8))\n",
    "counts, bins, _ = ax2.hist(\n",
    "    amplitude,\n",
    "    bins=25,\n",
    "    range=(0, 25),  # Définir la plage de 0 à 25\n",
    "    color=\"#1e4f73\",\n",
    "    edgecolor='white',\n",
    "    weights=np.ones_like(amplitude) / len(amplitude),\n",
    "    rwidth=.5\n",
    ")\n",
    "\n",
    "# Convertir les fréquences relatives en nombre de mesures\n",
    "total_samples = len(amplitude)\n",
    "counts_absolute = counts * total_samples\n",
    "\n",
    "# Afficher l'histogramme\n",
    "ax2.set_xlabel(\"Amplitude hydrique quotidienne (RH %)\")\n",
    "ax2.set_ylabel(\"Fréquence (%)\")\n",
    "ax2.set_xlim(0, 25)\n",
    "ax2.yaxis.set_major_formatter(plt.FuncFormatter(lambda y, _: f'{int(y * 100)}%'))\n",
    "\n",
    "# Générer et afficher le texte avec les intervalles et le nombre de mesures\n",
    "print(\"Distribution des amplitudes hydriques quotidiennes:\")\n",
    "for i in range(len(bins)-1):\n",
    "    start = bins[i]\n",
    "    end = bins[i+1]\n",
    "    count = int(round(counts_absolute[i]))\n",
    "    mesure_text = \"mesure\" if count == 1 else \"mesures\"\n",
    "    print(f\"{start:.0f}-{end:.0f} % : {count} {mesure_text}\")\n",
    "\n",
    "plt.tight_layout()\n",
    "plt.show()"
   ]
  },
  {
   "cell_type": "code",
   "execution_count": 17,
   "id": "065670f9",
   "metadata": {},
   "outputs": [
    {
     "data": {
      "text/plain": [
       "date_only\n",
       "2022-09-25     5.685425\n",
       "2022-09-26    14.291382\n",
       "2022-09-27     8.328247\n",
       "2022-09-28     4.898071\n",
       "2022-09-29     6.719971\n",
       "                ...    \n",
       "2023-09-21     5.035400\n",
       "2023-09-22    11.523438\n",
       "2023-09-23    10.310364\n",
       "2023-09-24    11.575317\n",
       "2023-09-25     0.000000\n",
       "Name: Ch: 3 - RH   (%), Length: 366, dtype: float64"
      ]
     },
     "execution_count": 17,
     "metadata": {},
     "output_type": "execute_result"
    }
   ],
   "source": [
    "amplitude"
   ]
  },
  {
   "cell_type": "code",
   "execution_count": 16,
   "id": "94d3ebaa",
   "metadata": {},
   "outputs": [
    {
     "data": {
      "text/plain": [
       "np.float64(0.0)"
      ]
     },
     "execution_count": 16,
     "metadata": {},
     "output_type": "execute_result"
    }
   ],
   "source": [
    "amplitude.min()"
   ]
  },
  {
   "cell_type": "code",
   "execution_count": 18,
   "id": "1adf499a",
   "metadata": {},
   "outputs": [
    {
     "data": {
      "text/plain": [
       "np.float64(23.454284667968807)"
      ]
     },
     "execution_count": 18,
     "metadata": {},
     "output_type": "execute_result"
    }
   ],
   "source": [
    "amplitude.max()"
   ]
  },
  {
   "cell_type": "code",
   "execution_count": 11,
   "id": "a56497ca",
   "metadata": {},
   "outputs": [
    {
     "data": {
      "text/plain": [
       "np.float64(1.0)"
      ]
     },
     "execution_count": 11,
     "metadata": {},
     "output_type": "execute_result"
    }
   ],
   "source": [
    "counts_absolute[0]"
   ]
  },
  {
   "cell_type": "code",
   "execution_count": 12,
   "id": "cc65355d",
   "metadata": {},
   "outputs": [
    {
     "data": {
      "text/plain": [
       "np.float64(8.0)"
      ]
     },
     "execution_count": 12,
     "metadata": {},
     "output_type": "execute_result"
    }
   ],
   "source": [
    "counts_absolute[1]"
   ]
  }
 ],
 "metadata": {
  "kernelspec": {
   "display_name": "Python 3",
   "language": "python",
   "name": "python3"
  },
  "language_info": {
   "codemirror_mode": {
    "name": "ipython",
    "version": 3
   },
   "file_extension": ".py",
   "mimetype": "text/x-python",
   "name": "python",
   "nbconvert_exporter": "python",
   "pygments_lexer": "ipython3",
   "version": "3.11.0"
  }
 },
 "nbformat": 4,
 "nbformat_minor": 5
}
